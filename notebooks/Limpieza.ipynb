{
 "cells": [
  {
   "cell_type": "markdown",
   "metadata": {},
   "source": [
    "# Limpieza"
   ]
  },
  {
   "cell_type": "markdown",
   "metadata": {},
   "source": [
    "### Fase 1 y Fase 2"
   ]
  },
  {
   "cell_type": "code",
   "execution_count": 1,
   "metadata": {},
   "outputs": [],
   "source": [
    "import pandas as pd\n",
    "import numpy as np\n",
    "import sys\n",
    "sys.path.append(\"../\")\n",
    "from src.soporte_limpieza import nombrecolumnas, cambiar_tipo_columnas, codigo_nombre\n",
    "from src.soporte_variables import cambio_nombre_columnas, cambio_tipos_columnas\n",
    "\n",
    "#df_2013 = pd.read_csv(f\"../datos/datos-2013.csv\", index_col=0, delimiter=\";\", parse_dates=[\"DATA LANÇAMENTO\"])\n",
    "\n",
    "#df_2013 = nombrecolumnas(df_2013, cambio_nombre_columnas)\n",
    "#df_2013 = cambiar_tipo_columnas2(df_2013, cambio_tipos_columnas)\n",
    "#df_2013.head()"
   ]
  },
  {
   "cell_type": "markdown",
   "metadata": {},
   "source": [
    "### Limpieza de datos y union de conjuntos de datos"
   ]
  },
  {
   "cell_type": "code",
   "execution_count": 2,
   "metadata": {},
   "outputs": [
    {
     "name": "stderr",
     "output_type": "stream",
     "text": [
      "C:\\Users\\ivigo\\AppData\\Local\\Temp\\ipykernel_43816\\2353903344.py:1: UserWarning: Parsing dates in %d/%m/%Y format when dayfirst=False (the default) was specified. Pass `dayfirst=True` or specify a format to silence this warning.\n",
      "  df_2013 = pd.read_csv(f\"../datos/datos-2013.csv\", delimiter=\";\", parse_dates=[\"DATA LANÇAMENTO\"])\n",
      "C:\\Users\\ivigo\\AppData\\Local\\Temp\\ipykernel_43816\\2353903344.py:2: UserWarning: Parsing dates in %d/%m/%Y format when dayfirst=False (the default) was specified. Pass `dayfirst=True` or specify a format to silence this warning.\n",
      "  df_2014 = pd.read_csv(f\"../datos/datos-2014.csv\", delimiter=\";\", parse_dates=[\"DATA LANÇAMENTO\"])\n",
      "C:\\Users\\ivigo\\AppData\\Local\\Temp\\ipykernel_43816\\2353903344.py:3: UserWarning: Parsing dates in %d/%m/%Y format when dayfirst=False (the default) was specified. Pass `dayfirst=True` or specify a format to silence this warning.\n",
      "  df_2015 = pd.read_csv(f\"../datos/datos-2015.csv\", delimiter=\";\", parse_dates=[\"DATA LANÇAMENTO\"])\n",
      "C:\\Users\\ivigo\\AppData\\Local\\Temp\\ipykernel_43816\\2353903344.py:5: UserWarning: Parsing dates in %d/%m/%Y format when dayfirst=False (the default) was specified. Pass `dayfirst=True` or specify a format to silence this warning.\n",
      "  df_2017 = pd.read_csv(f\"../datos/datos-2017.csv\", delimiter=\";\", parse_dates=[\"DATA LANÇAMENTO\"])\n",
      "C:\\Users\\ivigo\\AppData\\Local\\Temp\\ipykernel_43816\\2353903344.py:6: UserWarning: Parsing dates in %d/%m/%Y format when dayfirst=False (the default) was specified. Pass `dayfirst=True` or specify a format to silence this warning.\n",
      "  df_2018 = pd.read_csv(f\"../datos/datos-2018.csv\", delimiter=\";\", parse_dates=[\"DATA LANÇAMENTO\"])\n",
      "C:\\Users\\ivigo\\AppData\\Local\\Temp\\ipykernel_43816\\2353903344.py:8: UserWarning: Parsing dates in %d/%m/%Y format when dayfirst=False (the default) was specified. Pass `dayfirst=True` or specify a format to silence this warning.\n",
      "  df_2020 = pd.read_csv(f\"../datos/datos-2020.csv\", delimiter=\";\", parse_dates=[\"DATA LANÇAMENTO\"])\n",
      "C:\\Users\\ivigo\\AppData\\Local\\Temp\\ipykernel_43816\\2353903344.py:9: UserWarning: Parsing dates in %d/%m/%Y format when dayfirst=False (the default) was specified. Pass `dayfirst=True` or specify a format to silence this warning.\n",
      "  df_2021 = pd.read_csv(f\"../datos/datos-2021.csv\", delimiter=\";\", parse_dates=[\"DATA LANÇAMENTO\"])\n",
      "c:\\Bravo\\Hackio\\Modulo2\\Proyecto\\Proyecto2-EDA-Ingresos-Publicos-Brasil\\notebooks\\..\\src\\soporte_limpieza.py:56: FutureWarning: A value is trying to be set on a copy of a DataFrame or Series through chained assignment using an inplace method.\n",
      "The behavior will change in pandas 3.0. This inplace method will never work because the intermediate object on which we are setting values always behaves as a copy.\n",
      "\n",
      "For example, when doing 'df[col].method(value, inplace=True)', try using 'df.method({col: value}, inplace=True)' or df[col] = df[col].method(value) instead, to perform the operation inplace on the original object.\n",
      "\n",
      "\n",
      "  df_copy[columna].fillna(anio, inplace=True)\n",
      "c:\\Bravo\\Hackio\\Modulo2\\Proyecto\\Proyecto2-EDA-Ingresos-Publicos-Brasil\\notebooks\\..\\src\\soporte_limpieza.py:56: FutureWarning: A value is trying to be set on a copy of a DataFrame or Series through chained assignment using an inplace method.\n",
      "The behavior will change in pandas 3.0. This inplace method will never work because the intermediate object on which we are setting values always behaves as a copy.\n",
      "\n",
      "For example, when doing 'df[col].method(value, inplace=True)', try using 'df.method({col: value}, inplace=True)' or df[col] = df[col].method(value) instead, to perform the operation inplace on the original object.\n",
      "\n",
      "\n",
      "  df_copy[columna].fillna(anio, inplace=True)\n",
      "c:\\Bravo\\Hackio\\Modulo2\\Proyecto\\Proyecto2-EDA-Ingresos-Publicos-Brasil\\notebooks\\..\\src\\soporte_limpieza.py:56: FutureWarning: A value is trying to be set on a copy of a DataFrame or Series through chained assignment using an inplace method.\n",
      "The behavior will change in pandas 3.0. This inplace method will never work because the intermediate object on which we are setting values always behaves as a copy.\n",
      "\n",
      "For example, when doing 'df[col].method(value, inplace=True)', try using 'df.method({col: value}, inplace=True)' or df[col] = df[col].method(value) instead, to perform the operation inplace on the original object.\n",
      "\n",
      "\n",
      "  df_copy[columna].fillna(anio, inplace=True)\n",
      "c:\\Bravo\\Hackio\\Modulo2\\Proyecto\\Proyecto2-EDA-Ingresos-Publicos-Brasil\\notebooks\\..\\src\\soporte_limpieza.py:56: FutureWarning: A value is trying to be set on a copy of a DataFrame or Series through chained assignment using an inplace method.\n",
      "The behavior will change in pandas 3.0. This inplace method will never work because the intermediate object on which we are setting values always behaves as a copy.\n",
      "\n",
      "For example, when doing 'df[col].method(value, inplace=True)', try using 'df.method({col: value}, inplace=True)' or df[col] = df[col].method(value) instead, to perform the operation inplace on the original object.\n",
      "\n",
      "\n",
      "  df_copy[columna].fillna(anio, inplace=True)\n",
      "c:\\Bravo\\Hackio\\Modulo2\\Proyecto\\Proyecto2-EDA-Ingresos-Publicos-Brasil\\notebooks\\..\\src\\soporte_limpieza.py:56: FutureWarning: A value is trying to be set on a copy of a DataFrame or Series through chained assignment using an inplace method.\n",
      "The behavior will change in pandas 3.0. This inplace method will never work because the intermediate object on which we are setting values always behaves as a copy.\n",
      "\n",
      "For example, when doing 'df[col].method(value, inplace=True)', try using 'df.method({col: value}, inplace=True)' or df[col] = df[col].method(value) instead, to perform the operation inplace on the original object.\n",
      "\n",
      "\n",
      "  df_copy[columna].fillna(anio, inplace=True)\n",
      "c:\\Bravo\\Hackio\\Modulo2\\Proyecto\\Proyecto2-EDA-Ingresos-Publicos-Brasil\\notebooks\\..\\src\\soporte_limpieza.py:56: FutureWarning: A value is trying to be set on a copy of a DataFrame or Series through chained assignment using an inplace method.\n",
      "The behavior will change in pandas 3.0. This inplace method will never work because the intermediate object on which we are setting values always behaves as a copy.\n",
      "\n",
      "For example, when doing 'df[col].method(value, inplace=True)', try using 'df.method({col: value}, inplace=True)' or df[col] = df[col].method(value) instead, to perform the operation inplace on the original object.\n",
      "\n",
      "\n",
      "  df_copy[columna].fillna(anio, inplace=True)\n",
      "c:\\Bravo\\Hackio\\Modulo2\\Proyecto\\Proyecto2-EDA-Ingresos-Publicos-Brasil\\notebooks\\..\\src\\soporte_limpieza.py:56: FutureWarning: A value is trying to be set on a copy of a DataFrame or Series through chained assignment using an inplace method.\n",
      "The behavior will change in pandas 3.0. This inplace method will never work because the intermediate object on which we are setting values always behaves as a copy.\n",
      "\n",
      "For example, when doing 'df[col].method(value, inplace=True)', try using 'df.method({col: value}, inplace=True)' or df[col] = df[col].method(value) instead, to perform the operation inplace on the original object.\n",
      "\n",
      "\n",
      "  df_copy[columna].fillna(anio, inplace=True)\n",
      "c:\\Bravo\\Hackio\\Modulo2\\Proyecto\\Proyecto2-EDA-Ingresos-Publicos-Brasil\\notebooks\\..\\src\\soporte_limpieza.py:56: FutureWarning: A value is trying to be set on a copy of a DataFrame or Series through chained assignment using an inplace method.\n",
      "The behavior will change in pandas 3.0. This inplace method will never work because the intermediate object on which we are setting values always behaves as a copy.\n",
      "\n",
      "For example, when doing 'df[col].method(value, inplace=True)', try using 'df.method({col: value}, inplace=True)' or df[col] = df[col].method(value) instead, to perform the operation inplace on the original object.\n",
      "\n",
      "\n",
      "  df_copy[columna].fillna(anio, inplace=True)\n",
      "c:\\Bravo\\Hackio\\Modulo2\\Proyecto\\Proyecto2-EDA-Ingresos-Publicos-Brasil\\notebooks\\..\\src\\soporte_limpieza.py:56: FutureWarning: A value is trying to be set on a copy of a DataFrame or Series through chained assignment using an inplace method.\n",
      "The behavior will change in pandas 3.0. This inplace method will never work because the intermediate object on which we are setting values always behaves as a copy.\n",
      "\n",
      "For example, when doing 'df[col].method(value, inplace=True)', try using 'df.method({col: value}, inplace=True)' or df[col] = df[col].method(value) instead, to perform the operation inplace on the original object.\n",
      "\n",
      "\n",
      "  df_copy[columna].fillna(anio, inplace=True)\n"
     ]
    },
    {
     "name": "stdout",
     "output_type": "stream",
     "text": [
      "Advertencia: La columna 'DESCRIÇÃO' no existe en el DataFrame.\n",
      "(1026365, 19)\n"
     ]
    },
    {
     "data": {
      "text/plain": [
       "(1026365, 19)"
      ]
     },
     "execution_count": 2,
     "metadata": {},
     "output_type": "execute_result"
    }
   ],
   "source": [
    "df_2013 = pd.read_csv(f\"../datos/datos-2013.csv\", delimiter=\";\", parse_dates=[\"DATA LANÇAMENTO\"])\n",
    "df_2014 = pd.read_csv(f\"../datos/datos-2014.csv\", delimiter=\";\", parse_dates=[\"DATA LANÇAMENTO\"])\n",
    "df_2015 = pd.read_csv(f\"../datos/datos-2015.csv\", delimiter=\";\", parse_dates=[\"DATA LANÇAMENTO\"])\n",
    "df_2016 = pd.read_csv(f\"../datos/datos-2016.csv\", delimiter=\";\", parse_dates=[\"DATA LANÇAMENTO\"])\n",
    "df_2017 = pd.read_csv(f\"../datos/datos-2017.csv\", delimiter=\";\", parse_dates=[\"DATA LANÇAMENTO\"])\n",
    "df_2018 = pd.read_csv(f\"../datos/datos-2018.csv\", delimiter=\";\", parse_dates=[\"DATA LANÇAMENTO\"])\n",
    "df_2019 = pd.read_csv(f\"../datos/datos-2019.csv\", delimiter=\";\", parse_dates=[\"DATA LANÇAMENTO\"])\n",
    "df_2020 = pd.read_csv(f\"../datos/datos-2020.csv\", delimiter=\";\", parse_dates=[\"DATA LANÇAMENTO\"])\n",
    "df_2021 = pd.read_csv(f\"../datos/datos-2021.csv\", delimiter=\";\", parse_dates=[\"DATA LANÇAMENTO\"])\n",
    "df_diccionario = pd.read_csv(\"../datos/diccionario_datos.csv\", index_col=0, delimiter=\";\", encoding=\"latin-1\")\n",
    "\n",
    "# Con la función cambiar_tipo_columnas() hago el 1.2, 2.1 y 2.2\n",
    "# Con nombrecolumnas() hago el 1.1\n",
    "\n",
    "df_2013 = nombrecolumnas(df_2013, cambio_nombre_columnas)\n",
    "df_2013 = cambiar_tipo_columnas(df_2013, cambio_tipos_columnas)\n",
    "\n",
    "df_2014 = nombrecolumnas(df_2014, cambio_nombre_columnas)\n",
    "df_2014 = cambiar_tipo_columnas(df_2014, cambio_tipos_columnas)\n",
    "\n",
    "df_2015 = nombrecolumnas(df_2015, cambio_nombre_columnas)\n",
    "df_2015 = cambiar_tipo_columnas(df_2015, cambio_tipos_columnas)\n",
    "\n",
    "df_2016 = nombrecolumnas(df_2016, cambio_nombre_columnas)\n",
    "df_2016 = cambiar_tipo_columnas(df_2016, cambio_tipos_columnas)\n",
    "\n",
    "df_2017 = nombrecolumnas(df_2017, cambio_nombre_columnas)\n",
    "df_2017 = cambiar_tipo_columnas(df_2017, cambio_tipos_columnas)\n",
    "\n",
    "df_2018 = nombrecolumnas(df_2018, cambio_nombre_columnas)\n",
    "df_2018 = cambiar_tipo_columnas(df_2018, cambio_tipos_columnas)\n",
    "\n",
    "df_2019 = nombrecolumnas(df_2019, cambio_nombre_columnas)\n",
    "df_2019 = cambiar_tipo_columnas(df_2019, cambio_tipos_columnas)\n",
    "\n",
    "df_2020 = nombrecolumnas(df_2020, cambio_nombre_columnas)\n",
    "df_2020 = cambiar_tipo_columnas(df_2020, cambio_tipos_columnas)\n",
    "\n",
    "df_2021 = nombrecolumnas(df_2021, cambio_nombre_columnas)\n",
    "df_2021 = cambiar_tipo_columnas(df_2021, cambio_tipos_columnas)\n",
    "\n",
    "df_diccionario = nombrecolumnas(df_diccionario, {\"DESCRIÇÃO\": \"descripción\"})\n",
    "df_diccionario = cambiar_tipo_columnas(df_diccionario, {\"DESCRIÇÃO\": \"str\"})\n",
    "\n",
    "# Aquí realizo el 1.3.1\n",
    "\n",
    "df_consolidado = pd.concat([df_2013, df_2014, df_2015, df_2016, df_2017, df_2018, df_2019, df_2020, df_2021, df_diccionario])\n",
    "\n",
    "df_consolidado.head()\n",
    "\n",
    "print(df_consolidado.shape)\n",
    "df_consolidado = codigo_nombre(df_consolidado, \"codigo_organo_superior\", \"nombre_organo_superior\")\n",
    "df_consolidado.shape"
   ]
  },
  {
   "cell_type": "code",
   "execution_count": 3,
   "metadata": {},
   "outputs": [],
   "source": [
    "# Extraemos con regex las coincidencias en la columna nombre_organo para posteriormente rellenar los NaN con estos valores\n",
    "patron = r\"(.*?)(?=\\s-\\s)\"\n",
    "df_largo = df_consolidado[\"nombre_organo\"].str.extract(patron)\n",
    "df_largo.columns = [\"nombre_organo_superior_extraido\"]\n",
    "df_consolidado[\"nombre_organo_superior_extraido\"] = df_largo[\"nombre_organo_superior_extraido\"]\n",
    "df_consolidado[\"nombre_organo_superior\"] = df_consolidado[\"nombre_organo_superior\"].fillna(df_consolidado[\"nombre_organo_superior_extraido\"])\n",
    "df_consolidado.drop(columns=[\"nombre_organo_superior_extraido\"], inplace=True)"
   ]
  },
  {
   "cell_type": "code",
   "execution_count": 4,
   "metadata": {},
   "outputs": [
    {
     "data": {
      "text/html": [
       "<div>\n",
       "<style scoped>\n",
       "    .dataframe tbody tr th:only-of-type {\n",
       "        vertical-align: middle;\n",
       "    }\n",
       "\n",
       "    .dataframe tbody tr th {\n",
       "        vertical-align: top;\n",
       "    }\n",
       "\n",
       "    .dataframe thead th {\n",
       "        text-align: right;\n",
       "    }\n",
       "</style>\n",
       "<table border=\"1\" class=\"dataframe\">\n",
       "  <thead>\n",
       "    <tr style=\"text-align: right;\">\n",
       "      <th></th>\n",
       "      <th>codigo_organo_superior</th>\n",
       "      <th>nombre_organo_superior</th>\n",
       "      <th>codigo_organo</th>\n",
       "      <th>nombre_organo</th>\n",
       "      <th>codigo_unidad_gestora</th>\n",
       "      <th>nombre_unidad_gestora</th>\n",
       "      <th>categoria_economica</th>\n",
       "      <th>origen_ingreso</th>\n",
       "      <th>tipo_ingreso</th>\n",
       "      <th>detalle</th>\n",
       "      <th>valor_previsto_actualizado</th>\n",
       "      <th>valor_lanzado</th>\n",
       "      <th>valor_realizado</th>\n",
       "      <th>porcentaje_realizado</th>\n",
       "      <th>fecha_lanzamiento</th>\n",
       "      <th>anio_ejercicio</th>\n",
       "      <th>Unnamed: 1</th>\n",
       "      <th>descripción</th>\n",
       "      <th>Unnamed: 3</th>\n",
       "    </tr>\n",
       "  </thead>\n",
       "  <tbody>\n",
       "    <tr>\n",
       "      <th>0</th>\n",
       "      <td>63000.0</td>\n",
       "      <td>Sem informação</td>\n",
       "      <td>63000.0</td>\n",
       "      <td>Advocacia-Geral da União - Unidades com víncul...</td>\n",
       "      <td>110060.0</td>\n",
       "      <td>COORD. GERAL DE ORC. FIN. E ANAL. CONT. - AGU</td>\n",
       "      <td>Receitas Correntes</td>\n",
       "      <td>Outras Receitas Correntes</td>\n",
       "      <td>Bens. Direitos e Valores Incorporados ao Patr</td>\n",
       "      <td>REC.DIVIDA ATIVA NAO TRIBUTARIA DE OUTRAS REC</td>\n",
       "      <td>0.0</td>\n",
       "      <td>0.0</td>\n",
       "      <td>1297.13</td>\n",
       "      <td>0.0</td>\n",
       "      <td>2013-12-31</td>\n",
       "      <td>2013.0</td>\n",
       "      <td>NaN</td>\n",
       "      <td>NaN</td>\n",
       "      <td>NaN</td>\n",
       "    </tr>\n",
       "    <tr>\n",
       "      <th>1</th>\n",
       "      <td>63000.0</td>\n",
       "      <td>Advocacia-Geral da União</td>\n",
       "      <td>63000.0</td>\n",
       "      <td>Advocacia-Geral da União - Unidades com víncul...</td>\n",
       "      <td>110060.0</td>\n",
       "      <td>COORD. GERAL DE ORC. FIN. E ANAL. CONT. - AGU</td>\n",
       "      <td>Receitas Correntes</td>\n",
       "      <td>Outras Receitas Correntes</td>\n",
       "      <td>Indenizações. restituições e ressarcimentos</td>\n",
       "      <td>RECUPERACAO DE DESPESAS DE EXERC. ANTERIORES</td>\n",
       "      <td>0.0</td>\n",
       "      <td>0.0</td>\n",
       "      <td>26666621.42</td>\n",
       "      <td>0.0</td>\n",
       "      <td>2013-12-31</td>\n",
       "      <td>2013.0</td>\n",
       "      <td>NaN</td>\n",
       "      <td>NaN</td>\n",
       "      <td>NaN</td>\n",
       "    </tr>\n",
       "    <tr>\n",
       "      <th>2</th>\n",
       "      <td>63000.0</td>\n",
       "      <td>Advocacia-Geral da União</td>\n",
       "      <td>63000.0</td>\n",
       "      <td>Advocacia-Geral da União - Unidades com víncul...</td>\n",
       "      <td>110060.0</td>\n",
       "      <td>COORD. GERAL DE ORC. FIN. E ANAL. CONT. - AGU</td>\n",
       "      <td>Receitas Correntes</td>\n",
       "      <td>Outras Receitas Correntes</td>\n",
       "      <td>Multas administrativas. contratuais e judicia</td>\n",
       "      <td>OUTRAS MULTAS E JUROS DE MORA</td>\n",
       "      <td>0.0</td>\n",
       "      <td>0.0</td>\n",
       "      <td>301251.13</td>\n",
       "      <td>0.0</td>\n",
       "      <td>2013-12-31</td>\n",
       "      <td>2013.0</td>\n",
       "      <td>NaN</td>\n",
       "      <td>NaN</td>\n",
       "      <td>NaN</td>\n",
       "    </tr>\n",
       "    <tr>\n",
       "      <th>3</th>\n",
       "      <td>63000.0</td>\n",
       "      <td>Sem informação</td>\n",
       "      <td>63000.0</td>\n",
       "      <td>Advocacia-Geral da União - Unidades com víncul...</td>\n",
       "      <td>110060.0</td>\n",
       "      <td>COORD. GERAL DE ORC. FIN. E ANAL. CONT. - AGU</td>\n",
       "      <td>Receitas Correntes</td>\n",
       "      <td>Outras Receitas Correntes</td>\n",
       "      <td>Bens. Direitos e Valores Incorporados ao Patr</td>\n",
       "      <td>REC.DIV.ATIVA POR INFRAÇÃO ADMINISTRATIVA</td>\n",
       "      <td>0.0</td>\n",
       "      <td>0.0</td>\n",
       "      <td>1855.58</td>\n",
       "      <td>0.0</td>\n",
       "      <td>2013-12-31</td>\n",
       "      <td>2013.0</td>\n",
       "      <td>NaN</td>\n",
       "      <td>NaN</td>\n",
       "      <td>NaN</td>\n",
       "    </tr>\n",
       "    <tr>\n",
       "      <th>4</th>\n",
       "      <td>63000.0</td>\n",
       "      <td>Advocacia-Geral da União</td>\n",
       "      <td>63000.0</td>\n",
       "      <td>Advocacia-Geral da União - Unidades com víncul...</td>\n",
       "      <td>110060.0</td>\n",
       "      <td>COORD. GERAL DE ORC. FIN. E ANAL. CONT. - AGU</td>\n",
       "      <td>Receitas Correntes</td>\n",
       "      <td>Outras Receitas Correntes</td>\n",
       "      <td>Indenizações. restituições e ressarcimentos</td>\n",
       "      <td>OUTRAS RESTITUICOES</td>\n",
       "      <td>0.0</td>\n",
       "      <td>0.0</td>\n",
       "      <td>52140.68</td>\n",
       "      <td>0.0</td>\n",
       "      <td>2013-12-31</td>\n",
       "      <td>2013.0</td>\n",
       "      <td>NaN</td>\n",
       "      <td>NaN</td>\n",
       "      <td>NaN</td>\n",
       "    </tr>\n",
       "  </tbody>\n",
       "</table>\n",
       "</div>"
      ],
      "text/plain": [
       "   codigo_organo_superior    nombre_organo_superior  codigo_organo  \\\n",
       "0                 63000.0            Sem informação        63000.0   \n",
       "1                 63000.0  Advocacia-Geral da União        63000.0   \n",
       "2                 63000.0  Advocacia-Geral da União        63000.0   \n",
       "3                 63000.0            Sem informação        63000.0   \n",
       "4                 63000.0  Advocacia-Geral da União        63000.0   \n",
       "\n",
       "                                       nombre_organo  codigo_unidad_gestora  \\\n",
       "0  Advocacia-Geral da União - Unidades com víncul...               110060.0   \n",
       "1  Advocacia-Geral da União - Unidades com víncul...               110060.0   \n",
       "2  Advocacia-Geral da União - Unidades com víncul...               110060.0   \n",
       "3  Advocacia-Geral da União - Unidades com víncul...               110060.0   \n",
       "4  Advocacia-Geral da União - Unidades com víncul...               110060.0   \n",
       "\n",
       "                           nombre_unidad_gestora categoria_economica  \\\n",
       "0  COORD. GERAL DE ORC. FIN. E ANAL. CONT. - AGU  Receitas Correntes   \n",
       "1  COORD. GERAL DE ORC. FIN. E ANAL. CONT. - AGU  Receitas Correntes   \n",
       "2  COORD. GERAL DE ORC. FIN. E ANAL. CONT. - AGU  Receitas Correntes   \n",
       "3  COORD. GERAL DE ORC. FIN. E ANAL. CONT. - AGU  Receitas Correntes   \n",
       "4  COORD. GERAL DE ORC. FIN. E ANAL. CONT. - AGU  Receitas Correntes   \n",
       "\n",
       "              origen_ingreso                                   tipo_ingreso  \\\n",
       "0  Outras Receitas Correntes  Bens. Direitos e Valores Incorporados ao Patr   \n",
       "1  Outras Receitas Correntes    Indenizações. restituições e ressarcimentos   \n",
       "2  Outras Receitas Correntes  Multas administrativas. contratuais e judicia   \n",
       "3  Outras Receitas Correntes  Bens. Direitos e Valores Incorporados ao Patr   \n",
       "4  Outras Receitas Correntes    Indenizações. restituições e ressarcimentos   \n",
       "\n",
       "                                         detalle  valor_previsto_actualizado  \\\n",
       "0  REC.DIVIDA ATIVA NAO TRIBUTARIA DE OUTRAS REC                         0.0   \n",
       "1   RECUPERACAO DE DESPESAS DE EXERC. ANTERIORES                         0.0   \n",
       "2                  OUTRAS MULTAS E JUROS DE MORA                         0.0   \n",
       "3      REC.DIV.ATIVA POR INFRAÇÃO ADMINISTRATIVA                         0.0   \n",
       "4                            OUTRAS RESTITUICOES                         0.0   \n",
       "\n",
       "   valor_lanzado  valor_realizado  porcentaje_realizado fecha_lanzamiento  \\\n",
       "0            0.0          1297.13                   0.0        2013-12-31   \n",
       "1            0.0      26666621.42                   0.0        2013-12-31   \n",
       "2            0.0        301251.13                   0.0        2013-12-31   \n",
       "3            0.0          1855.58                   0.0        2013-12-31   \n",
       "4            0.0         52140.68                   0.0        2013-12-31   \n",
       "\n",
       "   anio_ejercicio  Unnamed: 1 descripción Unnamed: 3  \n",
       "0          2013.0         NaN         NaN        NaN  \n",
       "1          2013.0         NaN         NaN        NaN  \n",
       "2          2013.0         NaN         NaN        NaN  \n",
       "3          2013.0         NaN         NaN        NaN  \n",
       "4          2013.0         NaN         NaN        NaN  "
      ]
     },
     "execution_count": 4,
     "metadata": {},
     "output_type": "execute_result"
    }
   ],
   "source": [
    "df_consolidado.head()"
   ]
  },
  {
   "cell_type": "code",
   "execution_count": 5,
   "metadata": {},
   "outputs": [],
   "source": [
    "# Pruebas\n",
    "# lista_df = [df_2013, df_2014, df_2015, df_2016, df_2017, df_2018, df_2019, df_2020, df_2021]\n",
    "# lista_df = list(map(nombrecolumnas(), lista_df, cambio_nombre_columnas))\n",
    "# lista_df = list(map(cambiar_tipo_columnas(), lista_df, cambio_tipos_columnas))\n",
    "# df_consolidado = pd.concat(lista_df)\n",
    "\n",
    "# df_diccionario = nombrecolumnas(df_diccionario, cambio_nombre_columnas)\n",
    "# df_diccionario = cambiar_tipo_columnas(df_2016, cambio_tipos_columnas)"
   ]
  },
  {
   "cell_type": "markdown",
   "metadata": {},
   "source": [
    "### Eliminación de columnas y duplicados"
   ]
  },
  {
   "cell_type": "code",
   "execution_count": 6,
   "metadata": {},
   "outputs": [
    {
     "data": {
      "text/plain": [
       "False    1025498\n",
       "Name: count, dtype: int64"
      ]
     },
     "execution_count": 6,
     "metadata": {},
     "output_type": "execute_result"
    }
   ],
   "source": [
    "# Aquí realizo el 1.3.2\n",
    "\n",
    "df_consolidado = nombrecolumnas(df_consolidado, cambio_nombre_columnas)\n",
    "df_consolidado.dtypes\n",
    "\n",
    "df_consolidado[\"detalle\"].isnull().value_counts(normalize=True)*100\n",
    "df_consolidado[\"detalle\"].reset_index()\n",
    "\n",
    "df_consolidado[\"codigo_organo_superior\"].isnull().value_counts(normalize=True)*100 # Esta columna es la que mayor porcentaje de nulos contiene pero revisando el resto de columnas no aportan valor de cara al analisis de la fase 3\n",
    "df_consolidado[\"codigo_organo\"].isnull().value_counts(normalize=True)*100\n",
    "df_consolidado[\"codigo_unidad_gestora\"].isnull().value_counts(normalize=True)*100\n",
    "df_consolidado[\"descripción\"].isnull().value_counts() # Esta columna es 99% NaN\n",
    "df_consolidado[\"Unnamed: 3\"].isnull().value_counts() # Esta igual que la anterior\n",
    "df_consolidado[\"Unnamed: 1\"].isnull().value_counts() # Esta es 100% NaN\n",
    "\n",
    "df_consolidado.drop(columns=[\"detalle\", \"Unnamed: 1\", \"Unnamed: 3\", \"descripción\"], inplace=True)\n",
    "\n",
    "# Columnas eliminadas: detalle, Unnamed: 1, Unnamed: 3, descripción\n",
    "\n",
    "df_consolidado.duplicated().value_counts()\n",
    "df_consolidado.drop_duplicates(inplace=True)\n",
    "df_consolidado.duplicated().value_counts()"
   ]
  },
  {
   "cell_type": "code",
   "execution_count": 7,
   "metadata": {},
   "outputs": [
    {
     "data": {
      "text/plain": [
       "Index(['codigo_organo_superior', 'nombre_organo_superior', 'codigo_organo',\n",
       "       'nombre_organo', 'codigo_unidad_gestora', 'nombre_unidad_gestora',\n",
       "       'categoria_economica', 'origen_ingreso', 'tipo_ingreso',\n",
       "       'valor_previsto_actualizado', 'valor_lanzado', 'valor_realizado',\n",
       "       'porcentaje_realizado', 'fecha_lanzamiento', 'anio_ejercicio'],\n",
       "      dtype='object')"
      ]
     },
     "execution_count": 7,
     "metadata": {},
     "output_type": "execute_result"
    }
   ],
   "source": [
    "df_consolidado.columns"
   ]
  },
  {
   "cell_type": "code",
   "execution_count": 8,
   "metadata": {},
   "outputs": [
    {
     "data": {
      "text/html": [
       "<div>\n",
       "<style scoped>\n",
       "    .dataframe tbody tr th:only-of-type {\n",
       "        vertical-align: middle;\n",
       "    }\n",
       "\n",
       "    .dataframe tbody tr th {\n",
       "        vertical-align: top;\n",
       "    }\n",
       "\n",
       "    .dataframe thead th {\n",
       "        text-align: right;\n",
       "    }\n",
       "</style>\n",
       "<table border=\"1\" class=\"dataframe\">\n",
       "  <thead>\n",
       "    <tr style=\"text-align: right;\">\n",
       "      <th></th>\n",
       "      <th>codigo_organo_superior</th>\n",
       "      <th>nombre_organo_superior</th>\n",
       "      <th>codigo_organo</th>\n",
       "      <th>nombre_organo</th>\n",
       "      <th>codigo_unidad_gestora</th>\n",
       "      <th>nombre_unidad_gestora</th>\n",
       "      <th>categoria_economica</th>\n",
       "      <th>origen_ingreso</th>\n",
       "      <th>tipo_ingreso</th>\n",
       "      <th>valor_previsto_actualizado</th>\n",
       "      <th>valor_lanzado</th>\n",
       "      <th>valor_realizado</th>\n",
       "      <th>porcentaje_realizado</th>\n",
       "      <th>fecha_lanzamiento</th>\n",
       "      <th>anio_ejercicio</th>\n",
       "    </tr>\n",
       "  </thead>\n",
       "  <tbody>\n",
       "    <tr>\n",
       "      <th>0</th>\n",
       "      <td>63000.0</td>\n",
       "      <td>Sem informação</td>\n",
       "      <td>63000.0</td>\n",
       "      <td>Advocacia-Geral da União - Unidades com víncul...</td>\n",
       "      <td>110060.0</td>\n",
       "      <td>COORD. GERAL DE ORC. FIN. E ANAL. CONT. - AGU</td>\n",
       "      <td>Receitas Correntes</td>\n",
       "      <td>Outras Receitas Correntes</td>\n",
       "      <td>Bens. Direitos e Valores Incorporados ao Patr</td>\n",
       "      <td>0.0</td>\n",
       "      <td>0.0</td>\n",
       "      <td>1297.13</td>\n",
       "      <td>0.0</td>\n",
       "      <td>2013-12-31</td>\n",
       "      <td>2013.0</td>\n",
       "    </tr>\n",
       "  </tbody>\n",
       "</table>\n",
       "</div>"
      ],
      "text/plain": [
       "   codigo_organo_superior nombre_organo_superior  codigo_organo  \\\n",
       "0                 63000.0         Sem informação        63000.0   \n",
       "\n",
       "                                       nombre_organo  codigo_unidad_gestora  \\\n",
       "0  Advocacia-Geral da União - Unidades com víncul...               110060.0   \n",
       "\n",
       "                           nombre_unidad_gestora categoria_economica  \\\n",
       "0  COORD. GERAL DE ORC. FIN. E ANAL. CONT. - AGU  Receitas Correntes   \n",
       "\n",
       "              origen_ingreso                                   tipo_ingreso  \\\n",
       "0  Outras Receitas Correntes  Bens. Direitos e Valores Incorporados ao Patr   \n",
       "\n",
       "   valor_previsto_actualizado  valor_lanzado  valor_realizado  \\\n",
       "0                         0.0            0.0          1297.13   \n",
       "\n",
       "   porcentaje_realizado fecha_lanzamiento  anio_ejercicio  \n",
       "0                   0.0        2013-12-31          2013.0  "
      ]
     },
     "execution_count": 8,
     "metadata": {},
     "output_type": "execute_result"
    }
   ],
   "source": [
    "df_consolidado.head(1)"
   ]
  },
  {
   "cell_type": "code",
   "execution_count": 9,
   "metadata": {},
   "outputs": [
    {
     "data": {
      "text/plain": [
       "array(['Receitas Correntes', 'Receitas de Capital', 'Sem informação',\n",
       "       'Receitas Correntes - intra-orçamentárias',\n",
       "       'Receitas de Capital - intra-orçamentárias', nan], dtype=object)"
      ]
     },
     "execution_count": 9,
     "metadata": {},
     "output_type": "execute_result"
    }
   ],
   "source": [
    "df_consolidado[\"categoria_economica\"].unique()"
   ]
  },
  {
   "cell_type": "code",
   "execution_count": 12,
   "metadata": {},
   "outputs": [
    {
     "data": {
      "text/plain": [
       "Series([], Name: count, dtype: int64)"
      ]
     },
     "execution_count": 12,
     "metadata": {},
     "output_type": "execute_result"
    }
   ],
   "source": [
    "df_consolidado[df_consolidado[\"categoria_economica\"].isna()]"
   ]
  },
  {
   "cell_type": "code",
   "execution_count": 11,
   "metadata": {},
   "outputs": [],
   "source": [
    "# Lo paso a un csv\n",
    "df_consolidado.to_csv(\"../datos/consolidado.csv\")"
   ]
  }
 ],
 "metadata": {
  "kernelspec": {
   "display_name": "Python 3",
   "language": "python",
   "name": "python3"
  },
  "language_info": {
   "codemirror_mode": {
    "name": "ipython",
    "version": 3
   },
   "file_extension": ".py",
   "mimetype": "text/x-python",
   "name": "python",
   "nbconvert_exporter": "python",
   "pygments_lexer": "ipython3",
   "version": "3.12.6"
  }
 },
 "nbformat": 4,
 "nbformat_minor": 2
}
